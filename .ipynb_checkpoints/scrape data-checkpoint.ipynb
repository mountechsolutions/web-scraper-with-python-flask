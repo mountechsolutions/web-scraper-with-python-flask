{
 "cells": [
  {
   "cell_type": "code",
   "execution_count": 12,
   "metadata": {},
   "outputs": [],
   "source": [
    "import requests\n",
    "import pandas as pd\n",
    "from bs4 import BeautifulSoup\n",
    "import re"
   ]
  },
  {
   "cell_type": "code",
   "execution_count": 13,
   "metadata": {},
   "outputs": [],
   "source": [
    "website_url = requests.get('https://www.worldometers.info/coronavirus/')\n",
    "soup = BeautifulSoup(website_url.text,'html.parser')\n",
    "def WorldometerTable():\n",
    "    table = soup.find('table',{'id':\"main_table_countries_today\"})\n",
    "    list_of_rows = []\n",
    "    for tr in table.find_all('tr'):\n",
    "        list_of_cells = []\n",
    "        for td in tr.find_all(['td', 'th']):\n",
    "            text = td.text\n",
    "            list_of_cells.append(text)\n",
    "        list_of_rows.append(list_of_cells)\n",
    "    df = pd.DataFrame(list_of_rows)\n",
    "    data=df.iloc[9:-8]\n",
    "    data = data.rename(columns=data.iloc[0]).drop(data.index[0])\n",
    "    data=data.to_dict()\n",
    "    return data\n",
    "\n",
    "def WorldNews():\n",
    "    urls = []\n",
    "    heading = []\n",
    "    for news in soup.find_all('div', class_='news_post'):\n",
    "        heading.append(news.text)\n",
    "        for url in news.find_all('a', class_='news_source_a'):\n",
    "            urls.append(url.get('href'))\n",
    "    clear_data = []\n",
    "    for i in heading:\n",
    "    #     clean=i.str.replace('[^\\w\\s]',\" \")\n",
    "        clean = re.sub(r'[[source] ]', ' ', i)\n",
    "        clear_data.append(clean)\n",
    "    final_news = []\n",
    "    for i in clear_data:\n",
    "        final_news.append(i.replace('source', ''))\n",
    "    df_news_zipped = list(zip(final_news, urls))\n",
    "    df_news = pd.DataFrame(df_news_zipped, columns=['Title', 'Source'])\n",
    "    news = []\n",
    "    for i, title in enumerate(df_news['Title']):\n",
    "        news.append({'id':i, 'title':title})\n",
    "    return heading"
   ]
  },
  {
   "cell_type": "code",
   "execution_count": 94,
   "metadata": {},
   "outputs": [],
   "source": [
    "response = requests.get('https://coronanepal.live/')\n",
    "soup = BeautifulSoup(response.text, 'html.parser')\n",
    "def Nepal_table():\n",
    "    table = soup.find('table')\n",
    "    list_of_rows = []\n",
    "    for tr in table.find_all('tr'):\n",
    "        list_of_cells = []\n",
    "        for td in tr.find_all(['td', 'th']):\n",
    "            text = td.text\n",
    "            list_of_cells.append(text)\n",
    "        list_of_rows.append(list_of_cells)\n",
    "    df = pd.DataFrame(list_of_rows)\n",
    "    return df\n",
    "def Nepal_test_detail():\n",
    "    get_table_1 = soup.findAll('div',attrs={'class':'col-lg-3'})\n",
    "    get_table_1=get_table_1[2]\n",
    "    get_table_data_1 = get_table_1.find_all([\"h4\",'h1'])\n",
    "    keys=['tested_total','total_cases','total_death','total_recover']\n",
    "    data=[]\n",
    "    for i in range(1,8,2):\n",
    "        data.append(get_table_data_1[i+1].text)\n",
    "    return dict(zip(keys,data))"
   ]
  }
 ],
 "metadata": {
  "kernelspec": {
   "display_name": "Python 3",
   "language": "python",
   "name": "python3"
  },
  "language_info": {
   "codemirror_mode": {
    "name": "ipython",
    "version": 3
   },
   "file_extension": ".py",
   "mimetype": "text/x-python",
   "name": "python",
   "nbconvert_exporter": "python",
   "pygments_lexer": "ipython3",
   "version": "3.7.6"
  }
 },
 "nbformat": 4,
 "nbformat_minor": 4
}
