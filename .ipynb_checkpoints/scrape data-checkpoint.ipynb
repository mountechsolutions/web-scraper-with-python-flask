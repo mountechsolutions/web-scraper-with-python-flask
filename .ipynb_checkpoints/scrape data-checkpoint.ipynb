{
 "cells": [
  {
   "cell_type": "code",
   "execution_count": 41,
   "metadata": {},
   "outputs": [],
   "source": [
    "import requests\n",
    "import json,schedule,time\n",
    "import pandas as pd\n",
    "import requests\n",
    "import pandas as pd\n",
    "from bs4 import BeautifulSoup\n",
    "import re"
   ]
  },
  {
   "cell_type": "code",
   "execution_count": 2,
   "metadata": {},
   "outputs": [],
   "source": [
    "data=pd.read_csv('total-population-by-sex-country-province-district-and-local-level-population.csv')"
   ]
  },
  {
   "cell_type": "code",
   "execution_count": 9,
   "metadata": {},
   "outputs": [],
   "source": [
    "df=data[17:170]"
   ]
  },
  {
   "cell_type": "code",
   "execution_count": 28,
   "metadata": {},
   "outputs": [
    {
     "name": "stderr",
     "output_type": "stream",
     "text": [
      "/home/sudu/anaconda3/lib/python3.7/site-packages/ipykernel_launcher.py:1: SettingWithCopyWarning: \n",
      "A value is trying to be set on a copy of a slice from a DataFrame.\n",
      "Try using .loc[row_indexer,col_indexer] = value instead\n",
      "\n",
      "See the caveats in the documentation: https://pandas.pydata.org/pandas-docs/stable/user_guide/indexing.html#returning-a-view-versus-a-copy\n",
      "  \"\"\"Entry point for launching an IPython kernel.\n"
     ]
    }
   ],
   "source": [
    "df['District']=df['Name\\n']"
   ]
  },
  {
   "cell_type": "code",
   "execution_count": 29,
   "metadata": {},
   "outputs": [
    {
     "name": "stderr",
     "output_type": "stream",
     "text": [
      "/home/sudu/anaconda3/lib/python3.7/site-packages/ipykernel_launcher.py:1: SettingWithCopyWarning: \n",
      "A value is trying to be set on a copy of a slice from a DataFrame.\n",
      "Try using .loc[row_indexer,col_indexer] = value instead\n",
      "\n",
      "See the caveats in the documentation: https://pandas.pydata.org/pandas-docs/stable/user_guide/indexing.html#returning-a-view-versus-a-copy\n",
      "  \"\"\"Entry point for launching an IPython kernel.\n"
     ]
    }
   ],
   "source": [
    "df['State']=df['parent_code']"
   ]
  },
  {
   "cell_type": "code",
   "execution_count": 33,
   "metadata": {},
   "outputs": [],
   "source": [
    "datas=df[['District','State']]"
   ]
  },
  {
   "cell_type": "code",
   "execution_count": 37,
   "metadata": {},
   "outputs": [],
   "source": [
    "datas=datas.drop_duplicates()"
   ]
  },
  {
   "cell_type": "code",
   "execution_count": 39,
   "metadata": {},
   "outputs": [],
   "source": [
    "datas.to_csv('provision.csv')"
   ]
  },
  {
   "cell_type": "code",
   "execution_count": 44,
   "metadata": {},
   "outputs": [],
   "source": [
    "def convert(a):\n",
    "    c = {'०':'0','१':'1','२':'2','३':'3','४':'4','५':'5','६':'6','७':'7','८':'8','९':'9',',':','}\n",
    "    for key,value in c.items():\n",
    "        a = a.replace(key,value)\n",
    "    return a\n"
   ]
  },
  {
   "cell_type": "code",
   "execution_count": 68,
   "metadata": {},
   "outputs": [],
   "source": [
    "def Nepal_table():\n",
    "    response = requests.get('https://coronanepal.live/')\n",
    "    soup = BeautifulSoup(response.text, 'html.parser')\n",
    "    table = soup.find('table')\n",
    "    list_of_rows = []\n",
    "    for tr in table.find_all('tr'):\n",
    "        list_of_cells = []\n",
    "        for td in tr.find_all(['td', 'th']):\n",
    "            text = td.text\n",
    "            list_of_cells.append(text)\n",
    "        list_of_rows.append(list_of_cells)\n",
    "    df = pd.DataFrame(list_of_rows)\n",
    "    c = {'०':0,'१':1,'२':2,'३':3,'४':4,'५':5,'६':6,'७':7,'८':8,'९':9}\n",
    "    for i in df.columns:\n",
    "        df[i]=df[i].apply(lambda x: convert(x))\n",
    "        \n",
    "    df=df[[1,2,4,5]][1:]\n",
    "    columns_name = ['District','Total_Case','Total_Death','Total_Recover']\n",
    "    df.columns = columns_name\n",
    "    df=df.sort_values(by=\"District\", ascending=True)\n",
    "    provision=pd.read_csv('provision.csv')\n",
    "    df['State']=provision['State']\n",
    "    df[['Total_Case','Total_Death','Total_Recover']]=df[['Total_Case','Total_Death','Total_Recover']].apply(pd.to_numeric)\n",
    "    df=df.sort_values(by=\"Total_Case\", ascending=False)\n",
    "    df.reset_index(drop=True, inplace=True)\n",
    "    df=df.T\n",
    "    data=df.to_dict().values()\n",
    "    filterdata=[]\n",
    "    for i in data:\n",
    "        filterdata.append(i)\n",
    "    return df"
   ]
  },
  {
   "cell_type": "code",
   "execution_count": 84,
   "metadata": {},
   "outputs": [],
   "source": [
    "table_data=Nepal_table()\n",
    "df=pd.DataFrame(table_data)\n",
    "df=df.T\n",
    "a=df.groupby('State')['Total_Case'].sum()\n",
    "State=[]\n",
    "data=[]\n",
    "for j in a:\n",
    "    data.append(j)\n",
    "for i in a.keys():\n",
    "    State.append(i)"
   ]
  },
  {
   "cell_type": "code",
   "execution_count": 85,
   "metadata": {},
   "outputs": [
    {
     "data": {
      "text/plain": [
       "[1.0, 2.0, 3.0, 4.0, 5.0, 6.0, 7.0]"
      ]
     },
     "execution_count": 85,
     "metadata": {},
     "output_type": "execute_result"
    }
   ],
   "source": [
    "State"
   ]
  },
  {
   "cell_type": "code",
   "execution_count": null,
   "metadata": {},
   "outputs": [],
   "source": []
  }
 ],
 "metadata": {
  "kernelspec": {
   "display_name": "Python 3",
   "language": "python",
   "name": "python3"
  },
  "language_info": {
   "codemirror_mode": {
    "name": "ipython",
    "version": 3
   },
   "file_extension": ".py",
   "mimetype": "text/x-python",
   "name": "python",
   "nbconvert_exporter": "python",
   "pygments_lexer": "ipython3",
   "version": "3.7.6"
  }
 },
 "nbformat": 4,
 "nbformat_minor": 4
}
